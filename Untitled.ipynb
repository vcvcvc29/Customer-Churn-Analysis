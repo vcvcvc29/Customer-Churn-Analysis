!pip install pandas
!pip install matplotlib
!pip install seaborn
!pip install numpy


import pandas as pd 
import numpy as np
import matplotlib.pyplot as plt
import seaborn as sns


df = pd.read_csv('customer churn.csv')
df


df.info()


df ["Total Extra Data Charges"] = df["Total Extra Data Charges"].replace(" ","0")
df ["Total Extra Data Charges"] = df["Total Extra Data Charges"].astype("float")
                                                 


df.info()


df.isnull().sum().sum()


df.fillna(0, inplace=True)


df.isnull().sum().sum()


df.describe()


df["Customer ID"].duplicated().sum()


def conv(value):
    if value ==1:
        return "yes"
    else:
        return "no"

df['SeniorCitizen'] = df["Senior Citizen"].apply(conv)





df.head(10)


ax = sns.countplot(x = 'Churn Label',data = df)
ax.bar_label(ax.containers[0])
plt.title("Count of customers by Churn")
plt.show()


plt.figure(figsize = (3,4))
gb = df.groupby("Churn Label").agg({'Churn Label':"count"})
plt.pie(gb['Churn Label'], labels = gb.index, autopct = %1.2f%%)
plt.title
plt.show()



